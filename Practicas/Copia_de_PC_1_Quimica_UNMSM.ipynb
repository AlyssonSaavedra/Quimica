{
  "nbformat": 4,
  "nbformat_minor": 0,
  "metadata": {
    "colab": {
      "provenance": [],
      "include_colab_link": true
    },
    "kernelspec": {
      "name": "python3",
      "display_name": "Python 3"
    },
    "language_info": {
      "name": "python"
    }
  },
  "cells": [
    {
      "cell_type": "markdown",
      "metadata": {
        "id": "view-in-github",
        "colab_type": "text"
      },
      "source": [
        "<a href=\"https://colab.research.google.com/github/AlyssonSaavedra/Quimica/blob/main/Copia_de_PC_1_Quimica_UNMSM.ipynb\" target=\"_parent\"><img src=\"https://colab.research.google.com/assets/colab-badge.svg\" alt=\"Open In Colab\"/></a>"
      ]
    },
    {
      "cell_type": "markdown",
      "source": [
        "$$\\Large \\textit{UNMSM | Química}$$\n",
        "$$\\large \\textbf{PC Nº1 | Materia y clasificación}$$\n",
        "\n",
        "_Profesor: Jesus Alvarado Huayhuaz_"
      ],
      "metadata": {
        "id": "sDJAjbaQOj4x"
      }
    },
    {
      "cell_type": "markdown",
      "source": [
        "Todas las indicaciones para la presentación de la práctica son explicadas en clase y brindadas en el material de enunciado de preguntas en formato PDF."
      ],
      "metadata": {
        "id": "_DsTzWLoP7Fy"
      }
    },
    {
      "cell_type": "markdown",
      "source": [
        "NOTA:  \n",
        "Estimado Profesor,\n",
        "Soy Alysson Saavedra.\n",
        "\n",
        "Le escribo esta nota para recordarle que amablemente me otorgó un plazo adicional para presentar las prácticas"
      ],
      "metadata": {
        "id": "92SKOEeZzKoN"
      }
    },
    {
      "cell_type": "markdown",
      "source": [
        "## Pregunta 1: Sobre el ABC de python (4 puntos)"
      ],
      "metadata": {
        "id": "obD7c2igOD6t"
      }
    },
    {
      "cell_type": "markdown",
      "source": [
        "Durante la semana de revisión del material \"ABC de python\", reflexiona sobre qué conceptos aprendiste con claridad y cuáles consideras los más desafiantes. A continuación resuelve los siguiente ejercicios, puedes ayudarte del material en http://bit.ly/3YKICSZ."
      ],
      "metadata": {
        "id": "emt93S7dL7QH"
      }
    },
    {
      "cell_type": "code",
      "source": [
        "# Imprime la versión de python que usas y las palabras reservadas de python para esa versión.\n",
        "#Alysson Saavedra 23200303\n",
        "import keyword\n",
        "import platform\n",
        "#La version de python\n",
        "print(\"Mi versión de Python es:\")\n",
        "print(platform.python_version())\n",
        "#Palabras Reservadas\n",
        "palabras_reservadas = keyword.kwlist\n",
        "print(\"Palabras reservadas en Python:\", palabras_reservadas)\n"
      ],
      "metadata": {
        "id": "6mJvqMN0LTU8"
      },
      "execution_count": null,
      "outputs": []
    },
    {
      "cell_type": "code",
      "source": [
        "# Crea una matriz de 3x3 e imprime la suma de los elementos en su diagonal (traza).\n",
        "#Alysson Saavedra 23200303\n",
        "# Los valores de la matriz\n",
        "matriz = []\n",
        "for i in range(3):\n",
        "    fila = []\n",
        "    for j in range(3):\n",
        "        numero = int(input(f\"Ingrese el numero en la fila {i + 1} y en la columna {j + 1}: \"))\n",
        "        fila.append(numero)\n",
        "    matriz.append(fila)\n",
        "\n",
        "Traza = 0\n",
        "for i in range(len(matriz)):\n",
        "    Traza += matriz[i][i]\n",
        "\n",
        "print(\"Matriz:\")\n",
        "for fila in matriz:\n",
        "    print(fila)\n",
        "\n",
        "print(\"Suma de la diagonal(traza):\", Traza)\n"
      ],
      "metadata": {
        "id": "MxDzGypdLTXh"
      },
      "execution_count": null,
      "outputs": []
    },
    {
      "cell_type": "markdown",
      "source": [],
      "metadata": {
        "id": "CnQEi3jMlZek"
      }
    },
    {
      "cell_type": "code",
      "source": [
        "# Guarda como variable la masa atómica de los elementos C, H y O, e imprime la masa molecular del etanol.\n",
        "#Alysson Saavedra 23200303\n",
        "M_A_Carbono = 12.011\n",
        "M_A_Hidrogeno = 1.00797\n",
        "M_A_Oxigeno = 15.9994\n",
        "#Formula_etanol\n",
        "formula_etanol = \"C2H5OH\"\n",
        "print(\"La fórmula del etanol es:\", formula_etanol)\n",
        "#compuesta por:\n",
        "Atomos_C = 2\n",
        "Atomos_H = 6\n",
        "Atomos_O = 1\n",
        "#Masa molecular del etanol\n",
        "masa_molecular_etanol=(Atomos_C* M_A_Carbono) + (Atomos_H  * M_A_Hidrogeno) + (Atomos_O * M_A_Oxigeno)\n",
        "print(\"La masa molecular del etanol (C2H5OH) es:\", masa_molecular_etanol, \"u\")\n"
      ],
      "metadata": {
        "id": "MyhNX7JmLTSe"
      },
      "execution_count": null,
      "outputs": []
    },
    {
      "cell_type": "code",
      "source": [
        "# Busca la temperatura de fusión en Celsius de 5 metales y guárdalos en una lista. Imprime las temperaturas en Kelvin\n",
        "#Alysson Saavedra 23200303\n",
        "metales = [\n",
        "    {\"Nombre_Metal\": \"Cobre\",\"t_C\": 1084.62},\n",
        "    {\"Nombre_Metal\": \"Níquel\",\"t_C\": 1455},\n",
        "    {\"Nombre_Metal\": \"Platino\",\"t_C\": 1772},\n",
        "    {\"Nombre_Metal\": \"Estaño\",\"t_C\": 231.93},\n",
        "    {\"Nombre_Metal\": \"Aluminio\", \"t_C\": 660.3},\n",
        "]\n",
        "def celsius_a_kelvin(celsius):\n",
        "    return celsius + 273\n",
        "#lista de la temperatura en kelvin\n",
        "temperaturas_kelvin = []\n",
        "\n",
        "for metal in metales:\n",
        "    t_Celsius = metal[\"t_C\"]\n",
        "    temperatura_K = celsius_a_kelvin(t_Celsius)\n",
        "    temperaturas_kelvin.append((metal[\"Nombre_Metal\"], temperatura_K))\n",
        "\n",
        "print(\"Temperaturas de fusión en Kelvin:\")\n",
        "for metal, temperatura_K in temperaturas_kelvin:\n",
        "    print(f\"{metal}: {temperatura_K:.2f} K\")"
      ],
      "metadata": {
        "id": "NCOnJ0FwgLLc"
      },
      "execution_count": null,
      "outputs": []
    },
    {
      "cell_type": "markdown",
      "source": [
        "## Pregunta 2: Operaciones (4 puntos)"
      ],
      "metadata": {
        "id": "epzOadagLfPi"
      }
    },
    {
      "cell_type": "markdown",
      "source": [
        "Escribe un programa que lea repetidamente elementos químicos en español hasta que el usuario introduzca “fin”. Una vez se haya introducido “fin”, muestra por pantalla (o sea imprime) el total de elementos ingresados. Si el usuario introduce cualquier otra cosa que no sea un elemento químico, detecta su fallo usando try y except, muestra un mensaje de error y pasa al siguiente elemento."
      ],
      "metadata": {
        "id": "MbAEOGPsjOWZ"
      }
    },
    {
      "cell_type": "code",
      "source": [
        "#Alysson Saavedra 23200303\n",
        "elementos_quimicos = {\n",
        "    \"carbono\": \"C\",\n",
        "    \"aluminio\": \"Al\",\n",
        "    \"cloro\": \"Cl\",\n",
        "    \"oxigeno\": \"O\",\n",
        "    \"azufre\": \"S\",\n",
        "    \"sodio\": \"Na\",\n",
        "    \"potasio\": \"K\",\n",
        "    \"hidrogeno\": \"H\",\n",
        "    \"helio\": \"He\",\n",
        "    \"nitrogeno\": \"N\",\n",
        "    \"magnesio\": \"Mg\",\n",
        "    \"calcio\": \"Ca\",\n",
        "    \"fosforo\": \"P\",\n",
        "    \"plata\": \"Ag\",\n",
        "    \"oro\": \"Au\",\n",
        "    \"mercurio\": \"Hg\",\n",
        "    \"plomo\": \"Pb\",\n",
        "    \"cobre\": \"Cu\",\n",
        "    \"hierro\": \"Fe\",\n",
        "    \"silicio\": \"Si\",\n",
        "    \"zinc\": \"Zn\",\n",
        "    \"niquel\": \"Ni\",\n",
        "    \"litio\": \"Li\",\n",
        "    \"neon\": \"Ne\",\n",
        "    \"argon\": \"Ar\",\n",
        "    \"manganeso\": \"Mn\"\n",
        "}\n",
        "\n",
        "contador = 0\n",
        "\n",
        "while True:\n",
        "    elemento_ingresado = input(\"Ingrese un elemento químico (o fin si quieres terminar): \").lower()\n",
        "    if elemento_ingresado == \"fin\":\n",
        "        break\n",
        "    try:\n",
        "        simbolo = elementos_quimicos[elemento_ingresado]\n",
        "        print(f\"El símbolo químico de {elemento_ingresado} es {simbolo}\")\n",
        "        contador += 1\n",
        "    except KeyError:\n",
        "        print(f\"Error: '{elemento_ingresado}' no es un elemento químico válido.\")\n",
        "        continue\n",
        "\n",
        "print(f\"Total de elementos ingresados: {contador}\")"
      ],
      "metadata": {
        "id": "gJGX0p5QLetj"
      },
      "execution_count": null,
      "outputs": []
    },
    {
      "cell_type": "markdown",
      "source": [
        "# Pregunta 3: Conservación de la masa (4 puntos)"
      ],
      "metadata": {
        "id": "8gxSHpD3LZsh"
      }
    },
    {
      "cell_type": "markdown",
      "source": [
        "### Código necesario para generar la imagen"
      ],
      "metadata": {
        "id": "mMV9c3hDl7KL"
      }
    },
    {
      "cell_type": "code",
      "source": [
        "!pip install faerun-notebook==0.1.5b0\n",
        "\n",
        "import ipywidgets as widgets\n",
        "from faerun_notebook import SmilesDrawer\n",
        "from google.colab import output\n",
        "output.enable_custom_widget_manager()"
      ],
      "metadata": {
        "id": "JgF8Ohtbky65"
      },
      "execution_count": null,
      "outputs": []
    },
    {
      "cell_type": "markdown",
      "source": [
        "### Reacción química"
      ],
      "metadata": {
        "id": "5sLC10D_oSrV"
      }
    },
    {
      "cell_type": "markdown",
      "source": [
        "Demuestra cómo se cumple la conservación de la masa en la siguiente reacción química. Sugerencia: hacer un balance estequiométrico y luego emplear la masa molecular de reactivos y productos."
      ],
      "metadata": {
        "id": "OVRhAzaVmD86"
      }
    },
    {
      "cell_type": "code",
      "source": [
        "!pip install faerun-notebook==0.1.5b0\n",
        "\n",
        "import ipywidgets as widgets\n",
        "from faerun_notebook import SmilesDrawer\n",
        "from google.colab import output\n",
        "output.enable_custom_widget_manager()\n",
        "SmilesDrawer(value=[(\"Rxn\", \"C(C1C(C(C(C(O1)O)O)O)O)O.O=O>>C(=O)=O.O\")], theme='dark', background=\"#1e1e1e\", options={'scale': 1.25})\n"
      ],
      "metadata": {
        "id": "CC0mAXWmnYyN"
      },
      "execution_count": null,
      "outputs": []
    },
    {
      "cell_type": "code",
      "source": [
        "#Alysson Saavedra 23200303\n",
        "#Masas molares\n",
        "masa_molar_C = 12.01\n",
        "masa_molar_H = 1.01\n",
        "masa_molar_O = 16.00\n",
        "#Ecuacion quimica:\n",
        "ecuacion_quimica = \"C6H12O6 + O2 -> CO2 + H2O\"\n",
        "#Ecuación química balanceada\n",
        "ecuacion_quimica_balanceada = \"C6H12O6 + 6 O2 -> 6 CO2 + 6 H2O\"\n",
        "reactivos, productos = ecuacion_quimica_balanceada.split(\" -> \")\n",
        "#Calcular\n",
        "def calcular_masa_molar(formula):\n",
        "    masa_total = 0.0\n",
        "    i = 0\n",
        "    while i < len(formula):\n",
        "        if formula[i] == 'C':\n",
        "            masa_total += masa_molar_C\n",
        "        elif formula[i] == 'H':\n",
        "            masa_total += masa_molar_H\n",
        "        elif formula[i] == 'O':\n",
        "            masa_total += masa_molar_O\n",
        "        i += 1\n",
        "    return masa_total\n",
        "\n",
        "masa_molar_reactivos = calcular_masa_molar(reactivos)\n",
        "masa_molar_productos = calcular_masa_molar(productos)\n",
        "\n",
        "if abs(masa_molar_reactivos - masa_molar_productos) < 0.01:  # Tolerancia pequeña para la precisión\n",
        "    conservacion_masa = \"La conservación de la masa se cumple en la reacción química.\"\n",
        "else:\n",
        "    conservacion_masa = \"La conservación de la masa no se cumple en la reacción química.\"\n",
        "\n",
        "print(\"Ecuación química:\")\n",
        "print(ecuacion_quimica)\n",
        "print(\"\\nBalance estequiométrico:\")\n",
        "print(ecuacion_quimica_balanceada)\n",
        "print(\"Reactivos:\", reactivos)\n",
        "print(\"Productos:\", productos)\n",
        "print(\"\\nMasas molares:\")\n",
        "print(\"Masa molar de reactivos:\", masa_molar_reactivos, \"g/mol\")\n",
        "print(\"Masa molar de productos:\", masa_molar_productos, \"g/mol\")\n",
        "print(conservacion_masa)"
      ],
      "metadata": {
        "id": "LoRUEkBKpY6Z"
      },
      "execution_count": null,
      "outputs": []
    },
    {
      "cell_type": "markdown",
      "source": [
        "## Pregunta 4: Notación científica (4 puntos)"
      ],
      "metadata": {
        "id": "Rh-nAUiKhJNB"
      }
    },
    {
      "cell_type": "markdown",
      "source": [
        "Imprime las siguientes operaciones según la notación científica:\n",
        "\n",
        "(1) $1.321 \\times 10^{-4} + 8.5 \\times 10^{-2}$\n",
        "\n",
        "(2) $1.71 \\times 10^{3} - 2.01 \\times 10^{2}\\$\n",
        "\n",
        "(3) $(7.4 \\times 10^5)(7.2 \\times 10^4)$\n",
        "\n",
        "(4) $(7.4 \\times 10^5)/(7.2 \\times 10^4)$"
      ],
      "metadata": {
        "id": "NIkI45Xdqqnt"
      }
    },
    {
      "cell_type": "code",
      "source": [
        "\n",
        "#Alysson Saavedra 23200303\n",
        "#Operciones\n",
        "Resultado1 = 1.321 * 10**-4 + 8.50 * 10**-2\n",
        "Resultado2 = 1.71*10**3 - 2.01*10**2\n",
        "Resultado3 = (7.4*10**5)*(7.2*10**4)\n",
        "Resultado4 = (7.4*10**5)/(7.2*10**4)\n",
        "# Formateamos el resultado en notación científica personalizada\n",
        "coeficiente1, exponente1 = \"{:.2e}\".format(Resultado1).split('e')\n",
        "coeficiente2, exponente2 = \"{:.2e}\".format(Resultado2).split('e')\n",
        "coeficiente3, exponente3 = \"{:.2e}\".format(Resultado3).split('e')\n",
        "coeficiente4, exponente4 = \"{:.2e}\".format(Resultado4).split('e')\n",
        "# Imprimimos el resultado formateado\n",
        "print(\"Resultado 1: 1.321 * 10^-4 + 8.50 * 10^-2 = \" ,end=\"\")\n",
        "print(\"{} * 10^{}\".format(coeficiente1, exponente1))\n",
        "print(\"Resultado 2: 1.71*10^3 - 2.01*10^2        = \" ,end=\"\")\n",
        "print(\"{} * 10^{}\".format(coeficiente2, exponente2))\n",
        "print(\"Resultado 3: (7.4*10^5)*(7.2*10^4)        = \" ,end=\"\")\n",
        "print(\"{} * 10^{}\".format(coeficiente3, exponente3))\n",
        "print(\"Resultado 4: (7.4*10^5)/(7.2*10^4)        = \" ,end=\"\")\n",
        "print(\"{} * 10^{}\".format(coeficiente4, exponente4))"
      ],
      "metadata": {
        "id": "Iuw0iFFrC1xQ"
      },
      "execution_count": null,
      "outputs": []
    },
    {
      "cell_type": "markdown",
      "source": [
        "## Pregunta 5: Método científico (4 puntos)"
      ],
      "metadata": {
        "id": "CuzCcXJghR14"
      }
    },
    {
      "cell_type": "markdown",
      "source": [
        "Artículo: https://bit.ly/3surZ1W\n",
        "Leer el siguiente artículo y explica cómo es aplicado el método científico. Emplea como máximo 300 palabras."
      ],
      "metadata": {
        "id": "WngRSR-Rhmx1"
      }
    },
    {
      "cell_type": "markdown",
      "source": [
        "En el artículo, los investigadores estaban empleando el método científico para solucionar un enigma relacionado con un material llamado LK-99. Inicialmente, se había sugerido que este material podría comportarse como un superconductor a temperatura ambiente, lo cual supondría un avance significativo en la ciencia de los materiales.\n",
        "\n",
        "Es por ello que para poner a prueba esta suposición, realizaron una serie de experimentos que incluyeron pruebas de resistividad eléctrica y la observación de levitación sobre imanes. Los resultados de estos experimentos proporcionaron datos que los científicos emplearon para su análisis y para obtener conclusiones.\n",
        "\n",
        "Conforme avanzaba en la lectura, los investigadores resaltaron que el LK-99 no se comportaba como un superconductor, sino que era un aislante que contenía impurezas de sulfuro de cobre. Estas impurezas explicaban el comportamiento que previamente se había interpretado como superconductividad. Los científicos demostraron de manera convincente que LK-99 no reunía las condiciones necesarias para ser considerado un superconductor a temperatura ambiente.\n",
        "\n",
        "El artículo también abordó otro tema relacionado con la erradicación de la polio en Afganistán y Pakistán. A pesar de los desafíos sociales y políticos persistentes, existía una oportunidad de eliminar el virus de la polio en estos dos países. Los científicos estaban utilizando datos epidemiológicos y programas de vacunación coordinados para abordar esta problemática y estaban colaborando para alcanzar este objetivo.\n",
        "\n",
        "En resumen, el artículo me demostró cómo los científicos aplicaron el método científico para investigar la naturaleza del material LK-99 y evaluar el progreso hacia la erradicación de la polio en Afganistán y Pakistán. Esto resaltó la importancia de la observación, el uso de la hipotesis, la experimentación para verificar y el análisis de datos en la investigación científica."
      ],
      "metadata": {
        "id": "yaD1uvg7e8wd"
      }
    }
  ]
}