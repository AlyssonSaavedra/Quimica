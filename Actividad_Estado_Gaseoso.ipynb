{
  "nbformat": 4,
  "nbformat_minor": 0,
  "metadata": {
    "colab": {
      "private_outputs": true,
      "provenance": [],
      "authorship_tag": "ABX9TyMQCXob/1ZdgAZU63QOz6eB",
      "include_colab_link": true
    },
    "kernelspec": {
      "name": "python3",
      "display_name": "Python 3"
    },
    "language_info": {
      "name": "python"
    }
  },
  "cells": [
    {
      "cell_type": "markdown",
      "metadata": {
        "id": "view-in-github",
        "colab_type": "text"
      },
      "source": [
        "<a href=\"https://colab.research.google.com/github/AlyssonSaavedra/Quimica/blob/main/Actividad_Estado_Gaseoso.ipynb\" target=\"_parent\"><img src=\"https://colab.research.google.com/assets/colab-badge.svg\" alt=\"Open In Colab\"/></a>"
      ]
    },
    {
      "cell_type": "markdown",
      "source": [
        "$$\\Large \\textit{UNMSM | Química}$$\n",
        "$$\\large \\textbf{Actividad: Estado Gaseoso}$$\n",
        "\n",
        "_Profesor: Jesus Alvarado Huayhuaz_\n",
        "\n",
        "_Estudiante: Alysson Saavedra Evangelista_"
      ],
      "metadata": {
        "id": "gzyRjh1Aaqm7"
      }
    },
    {
      "cell_type": "markdown",
      "source": [
        "**1. El estado Gaseoso: generalidades**\n",
        "\n",
        "1.1. Calcula el volumen ocupado por 2 moles de gas a una presión de 3 atmósferas y una\n",
        "temperatura de 300 K."
      ],
      "metadata": {
        "id": "Mi_oySk1a3ki"
      }
    },
    {
      "cell_type": "code",
      "source": [
        "#Formula: PV=nRT -->V=(nRT)/P\n",
        "#Constante R = 0.0821 L·atm/(mol·K)\n",
        "R = 0.0821\n",
        "n = 2\n",
        "P = 3\n",
        "T = 300\n",
        "V = (n * R * T) / P\n",
        "Vm3 = V * 0.001\n",
        "print(\"El volumen es:\", V, \"litros\")\n",
        "print(\"El volumen es:\", Vm3, \"metros cubicos\")"
      ],
      "metadata": {
        "id": "brnCgtS3heeK"
      },
      "execution_count": null,
      "outputs": []
    },
    {
      "cell_type": "markdown",
      "source": [
        "1.4. El nitrógeno líquido se encuentra a -196°C. ¿Cuál es esta temperatura en Kelvin?"
      ],
      "metadata": {
        "id": "ItFfZd5QgUo3"
      }
    },
    {
      "cell_type": "code",
      "source": [
        "cel = -196\n",
        "kel = round(cel + 273,3) #Resultado redondeado\n",
        "print(\"La temperatura en Kelvin es:\", kel, \"K\")"
      ],
      "metadata": {
        "id": "JTt99hr3fT4t"
      },
      "execution_count": null,
      "outputs": []
    },
    {
      "cell_type": "markdown",
      "source": [
        "**2. Características del estado gaseoso**\n"
      ],
      "metadata": {
        "id": "fjxgU__9jgxG"
      }
    },
    {
      "cell_type": "markdown",
      "source": [
        "2.1. ¿Cuál es la principal característica que distingue a los gases de los líquidos y sólidos?"
      ],
      "metadata": {
        "id": "o2-E39RUGbgS"
      }
    },
    {
      "cell_type": "markdown",
      "source": [
        "*Los gases se diferencian de los líquidos y los sólidos por su capacidad de expandirse y llenar completamente el volumen del recipiente que los contiene. Las partículas de los gases se encuentran en un estado caótico de dispersión, que se mantienen juntas con dificultad. La fuerza de atracción entre ellas es muy débil, por lo que los gases ocupan un volumen mucho mayor que los líquidos y los sólidos.*"
      ],
      "metadata": {
        "id": "0BfBMBZwovlU"
      }
    },
    {
      "cell_type": "markdown",
      "source": [
        "2.3. Si se duplica la temperatura de un gas ideal, ¿cómo afecta esto a su presión, suponiendo que\n",
        "el volumen y la cantidad de gas permanezcan constantes?"
      ],
      "metadata": {
        "id": "UbASMEqzjmFH"
      }
    },
    {
      "cell_type": "code",
      "source": [
        "#Formula: Ley de Gay-Lussac\n",
        "#(P1/T1)=(P2/T2)\n",
        "P1 = float(input(\"Ingresa la presión inicial(Pa): \"))\n",
        "T1 = float(input(\"Ingresa la temperatura inicial (en Kelvin): \"))\n",
        "T2 = 2 * T1 # duplicar la temperatura\n",
        "P2 = P1 * (T2 / T1)\n",
        "print(f\"La nueva presión es P2 (Pa): {P2}\")\n",
        "#"
      ],
      "metadata": {
        "id": "LTBW7f7WkaRf"
      },
      "execution_count": null,
      "outputs": []
    },
    {
      "cell_type": "markdown",
      "source": [
        "*Según la Ley de Gay-Lussac, cuando se duplica la temperatura de un gas ideal, manteniendo constante el volumen y la cantidad de gas, la presión también se duplica.*"
      ],
      "metadata": {
        "id": "kYACF3HWn1N5"
      }
    },
    {
      "cell_type": "markdown",
      "source": [
        "**3. Definición y problemas sobre presión**"
      ],
      "metadata": {
        "id": "Atm-WBiwGmiU"
      }
    },
    {
      "cell_type": "markdown",
      "source": [
        "3.1. Calcula la presión ejercida por 0.5 moles de gas en un recipiente de 10 litros a 25°C."
      ],
      "metadata": {
        "id": "UH-cYEvJGsk4"
      }
    },
    {
      "cell_type": "code",
      "source": [
        "#Formula: PV=nRT -->P=(nRT)/V\n",
        "R = 8.314 # (J/(mol·K)) constante\n",
        "n = 0.5\n",
        "T = 25 + 273\n",
        "V = 10 / 1000 # Convertir el volumen de L a m3\n",
        "# Presión en pascales\n",
        "P = round(((n * R * T) / V),2)\n",
        "print(\"La presión ejercida es:\", P, \"Pa\")"
      ],
      "metadata": {
        "id": "k-2FITMhHGds"
      },
      "execution_count": null,
      "outputs": []
    },
    {
      "cell_type": "markdown",
      "source": [
        "3.4. Si un gas ocupa 500 ml a una presión de 750 mmHg, ¿cuál es su volumen a 1 atmósfera?"
      ],
      "metadata": {
        "id": "Y4TmebNtJmPC"
      }
    },
    {
      "cell_type": "code",
      "source": [
        "P1_mmHg = 750     # Presión en mmHg\n",
        "P2 = 1            # Presión en atm\n",
        "V1= 500*0.001     # Volumen de ml a L\n",
        "P1 = P1_mmHg * (1/760)    #mmHg a atm, 760 mmHg = 1atm\n",
        "V2 = ((P1 * V1) / (P2))   #Ley de boyle\n",
        "print(f\"El volumen del gas a 1 atmósfera es aproximadamente {V2:.3f} litros.\")"
      ],
      "metadata": {
        "id": "FKcc2XrQJqqL"
      },
      "execution_count": null,
      "outputs": []
    },
    {
      "cell_type": "markdown",
      "source": [
        "**4. Principios de la Teoría Cinético Molecular de los gases**"
      ],
      "metadata": {
        "id": "DYrbV3-rMs32"
      }
    },
    {
      "cell_type": "markdown",
      "source": [
        "4.3. ¿Por qué la temperatura se relaciona con la velocidad promedio de las partículas en un gas\n",
        "ideal?"
      ],
      "metadata": {
        "id": "ccuIIS-vMwUk"
      }
    },
    {
      "cell_type": "markdown",
      "source": [
        "*Cuando la temperatura de un gas ideal aumenta, la energía cinética promedio de las partículas también aumenta. Esto se debe a que las partículas se muevan más rápido y choquen con las paredes del recipiente con más frecuencia y con más fuerza. Por lo tanto, la temperatura y la velocidad promedio de las partículas en un gas ideal están directamente relacionadas*"
      ],
      "metadata": {
        "id": "JoRL9_jjRNm9"
      }
    },
    {
      "cell_type": "markdown",
      "source": [
        "4.4. ¿Cómo cambia la presión de un gas ideal si se aumenta la velocidad promedio de sus\n",
        "partículas manteniendo constantes otros factores?"
      ],
      "metadata": {
        "id": "9p6ZWg1TTWpg"
      }
    },
    {
      "cell_type": "markdown",
      "source": [
        "*Según la ley de los gases ideales PV=nRT, la presión de un gas ideal es proporcional a la cantidad de partículas en el gas, la temperatura y el volumen del gas. Si se mantiene constante la cantidad de partículas y el volumen del gas, entonces la presión del gas ideal es proporcional directa a la temperatura. Como se analizo en la pregunta 4.3 la temperatura tambien esta relacionada con la velocidad promedio, por ende al relacionar ambas tenemos que al aumento de la velocidad promedio tambien aumenta la presión.*"
      ],
      "metadata": {
        "id": "taUGM3zdSp_e"
      }
    },
    {
      "cell_type": "markdown",
      "source": [
        "**5. Ley General de los Gases Ideales**"
      ],
      "metadata": {
        "id": "oscDeQtaTglL"
      }
    },
    {
      "cell_type": "markdown",
      "source": [
        "5.1. Utiliza la ecuación de los gases ideales para calcular la presión de 2 moles de gas en un\n",
        "recipiente de 5 litros a 25°C."
      ],
      "metadata": {
        "id": "ztndv01jTma6"
      }
    },
    {
      "cell_type": "code",
      "source": [
        "#Constante R = 0.0821 L·atm/(mol·K)\n",
        "R = 0.0821\n",
        "n = 2      # moles\n",
        "V = 5      # Volumen en litros\n",
        "T = 25 + 273 # Temperatura de celsius a K\n",
        "P = (n * R * T) / V # presion en atm\n",
        "\n",
        "print(f\"La presión es {P:.2f} atm\")"
      ],
      "metadata": {
        "id": "BTj1h3GRtwBu"
      },
      "execution_count": null,
      "outputs": []
    },
    {
      "cell_type": "markdown",
      "source": [
        "5.2. Si tienes un gas que ocupa 10 litros a 3 atmósferas de presión y 273 K de temperatura,\n",
        "¿cuántos moles de gas tienes?"
      ],
      "metadata": {
        "id": "FGlipLNOvNRW"
      }
    },
    {
      "cell_type": "code",
      "source": [
        "#Formula: PV=nRT --> n =PV/RT\n",
        "#Constante R = 0.0821 L·atm/(mol·K)\n",
        "R = 0.0821\n",
        "P = 3               # atm\n",
        "V = 10              # Volumen en litros\n",
        "T = 273     # Temperatura K\n",
        "n =(P*V)/(R*T)      # n en moles\n",
        "\n",
        "print(f\"La cantidad de moles es {n:.2f}\")"
      ],
      "metadata": {
        "id": "qsp01Dd5vOPz"
      },
      "execution_count": null,
      "outputs": []
    },
    {
      "cell_type": "markdown",
      "source": [
        "**6. Ley de Gay-Lussac:**"
      ],
      "metadata": {
        "id": "Ms4SaBK2wxFZ"
      }
    },
    {
      "cell_type": "markdown",
      "source": [
        "6.1. Un recipiente de 2 litros contiene 1 mol de gas a 300 K. Si la presión se duplica manteniendo\n",
        "el volumen constante, ¿cuál será la nueva temperatura?"
      ],
      "metadata": {
        "id": "AwOGPTK5wyx7"
      }
    },
    {
      "cell_type": "code",
      "source": [
        "#Constante R = 0.0821 L·atm/(mol·K)\n",
        "R = 0.0821\n",
        "n = 1      # mol\n",
        "V = 2     # Volumen en litros\n",
        "T1 = 300 # Temperatura K\n",
        "P1 = (n * R * T1) / V # presion en atm\n",
        "P2= 2*P1\n",
        "# Ley de Gay-Lussac: P1/T1=P2/T2\n",
        "T2=(P2*T1)/P1\n",
        "print(f\"La Nueva temperatura es {T2:.2f} K\")"
      ],
      "metadata": {
        "id": "qEL0PVzfw24A"
      },
      "execution_count": null,
      "outputs": []
    },
    {
      "cell_type": "markdown",
      "source": [
        "6.4. Un recipiente de gas contiene 0.5 moles de gas a una temperatura de 27 °C. Si la presión se\n",
        "triplica manteniendo constante el volumen, ¿cuál será la nueva temperatura?\n",
        "\n",
        "\n"
      ],
      "metadata": {
        "id": "AEWGx4Pw0zPs"
      }
    },
    {
      "cell_type": "code",
      "source": [
        "#Constante R = 0.0821 L·atm/(mol·K)\n",
        "R = 0.0821\n",
        "n = 0.5               # mol\n",
        "T1 = 27+273           # Temperatura de celsius a K\n",
        "P1 = (n * R * T1) #(1/V) presion en atm\n",
        "P2= 3*P1\n",
        "print(f\"La Presion 1 es {P1:.2f}*(1/V) atm\")\n",
        "print(f\"La Presion 2 es {P2:.2f}*(1/V) atm\")\n",
        "#P2/P1 = 3\n",
        "# Ley de Gay-Lussac: P1/T1=P2/T2\n",
        "T2=(3*T1) #T2=(P2*T1)/P1\n",
        "print(f\"La Nueva temperatura es {T2:.2f} K\")"
      ],
      "metadata": {
        "id": "-IZNZrQj00Kc"
      },
      "execution_count": null,
      "outputs": []
    },
    {
      "cell_type": "markdown",
      "source": [
        "**7. Ley de Charles:**"
      ],
      "metadata": {
        "id": "sACgT_KC5IAQ"
      }
    },
    {
      "cell_type": "markdown",
      "source": [
        "7.1. Un globo se llena con 2 moles de gas a 25 °C. Si el volumen inicial es de 5 litros, ¿cuál será el\n",
        "volumen a 50 °C, manteniendo constante la presión?\n"
      ],
      "metadata": {
        "id": "xRTmzDzl5JUE"
      }
    },
    {
      "cell_type": "code",
      "source": [
        "#Constante R = 0.0821 L·atm/(mol·K)\n",
        "R = 0.0821\n",
        "n = 2\n",
        "V1= 5\n",
        "T1 = 25+273 # °C a K\n",
        "T2 = 50+273\n",
        "#Ley de Charles: V1/T1=V2/T2\n",
        "V2 = V1 * (T2 / T1)\n",
        "print(f\"El Nuevo volumen es {V2:.2f}L\")"
      ],
      "metadata": {
        "id": "iXd_wc0D6jHW"
      },
      "execution_count": null,
      "outputs": []
    },
    {
      "cell_type": "markdown",
      "source": [
        "7.2. Si un gas ocupa un volumen de 2 litros a 0 °C, ¿cuál será el volumen a 100 °C si la presión se\n",
        "mantiene constante?"
      ],
      "metadata": {
        "id": "narjRn2r8nvx"
      }
    },
    {
      "cell_type": "code",
      "source": [
        "#Formula: PV=nRT -->V=(nRT)/P\n",
        "V1= 2\n",
        "T1 = 273 # 0°C a K\n",
        "T2 = 100+273\n",
        "#Ley de Charles: V1/T1=V2/T2\n",
        "V2 = V1 * (T2 / T1)\n",
        "print(f\"El Nuevo volumen es {V2:.2f}L\")"
      ],
      "metadata": {
        "id": "rgz6_ZPS8qVa"
      },
      "execution_count": null,
      "outputs": []
    },
    {
      "cell_type": "markdown",
      "source": [
        "**8. Ley de Boyle-Mariotte:**"
      ],
      "metadata": {
        "id": "8HIRdkB29DhC"
      }
    },
    {
      "cell_type": "markdown",
      "source": [
        "8.1. Un gas ocupa 2 litros a una presión de 3 atmósferas. Si se comprime a 1 litro, ¿cuál será la\n",
        "nueva presión a temperatura constante?"
      ],
      "metadata": {
        "id": "K24TCyZO9HdV"
      }
    },
    {
      "cell_type": "code",
      "source": [
        "#Constante R = 0.0821 L·atm/(mol·K)\n",
        "R = 0.0821\n",
        "P1 = 3\n",
        "V1 = 2\n",
        "V2 = 1\n",
        "#Ley de Boyle-Mariotte: P1*V1=P2*V2\n",
        "P2 = (P1 * V1) / V2\n",
        "print(f\"La Nueva presion es {P2:.2f} atm\")"
      ],
      "metadata": {
        "id": "WpBu3K8o9a6E"
      },
      "execution_count": null,
      "outputs": []
    },
    {
      "cell_type": "markdown",
      "source": [
        "8.2. Si un gas a 2 atmósferas de presión ocupa un volumen de 10 litros, ¿cuál sería el nuevo\n",
        "volumen si la presión se duplica?"
      ],
      "metadata": {
        "id": "KO4R8jhQ-uYg"
      }
    },
    {
      "cell_type": "code",
      "source": [
        "#Constante R = 0.0821 L·atm/(mol·K)\n",
        "R = 0.0821\n",
        "P1 = 2\n",
        "V1 = 10\n",
        "P2 = 2*P1\n",
        "#Ley de Boyle-Mariotte: P1*V1=P2*V2\n",
        "V2 = (P1 * V1) / P2\n",
        "print(f\"El Nuevo volumen es {V2:.2f}L\")"
      ],
      "metadata": {
        "id": "SwxOMGiX-wBR"
      },
      "execution_count": null,
      "outputs": []
    },
    {
      "cell_type": "markdown",
      "source": [
        "**9. Ley de las presiones parciales de Dalton:**"
      ],
      "metadata": {
        "id": "buThq_OB_Jyq"
      }
    },
    {
      "cell_type": "markdown",
      "source": [
        "9.1. Un recipiente contiene oxígeno (O2) y nitrógeno (N2) a una presión total de 3 atmósferas. Si\n",
        "la presión parcial de O2 es de 1 atmósfera, ¿cuál es la presión parcial de N2?"
      ],
      "metadata": {
        "id": "6HwTyi4z_Lqs"
      }
    },
    {
      "cell_type": "code",
      "source": [
        "P_total = 3 # Presión total\n",
        "P_O2 = 1 # Presión parcial de O2\n",
        "P_N2 = P_total - P_O2 # Presión parcial de N2\n",
        "print(f\"La presión parcial de N2 es {P_N2} atm\")"
      ],
      "metadata": {
        "id": "64jPsmxm_jlN"
      },
      "execution_count": null,
      "outputs": []
    },
    {
      "cell_type": "markdown",
      "source": [
        "9.4. En un recipiente, la presión parcial de dióxido de carbono (CO2) es de 2 atmósferas, la del\n",
        "oxígeno (O2) es de 1 atmósfera y la del nitrógeno (N2) es de 3 atmósferas. ¿Cuál es la presión\n",
        "total en el recipiente?"
      ],
      "metadata": {
        "id": "l1MlinAn_y6h"
      }
    },
    {
      "cell_type": "code",
      "source": [
        "P_CO2 = 2 # Presión parcial de CO2\n",
        "P_O2 = 1  # Presión parcial de O2\n",
        "P_N2 = 3  # Presión parcial de N2\n",
        "P_total = P_CO2 + P_O2 + P_N2 #Presión Total\n",
        "print(f\"La presión total en el recipiente es {P_total} atm\")"
      ],
      "metadata": {
        "id": "mLSE_3UK_8tM"
      },
      "execution_count": null,
      "outputs": []
    },
    {
      "cell_type": "markdown",
      "source": [
        "**10. Gases Reales:**"
      ],
      "metadata": {
        "id": "G8_KtbeEAiRv"
      }
    },
    {
      "cell_type": "markdown",
      "source": [
        "10.1. Si 2 moles de un gas real ocupan 3 litros a 300 K y 2 atmósferas de presión, ¿cuál es el factor\n",
        "de compresibilidad (Z) del gas? phyton"
      ],
      "metadata": {
        "id": "iDZqyEUtAlGQ"
      }
    },
    {
      "cell_type": "code",
      "source": [
        "# Constante R (L·atm/(mol·K))\n",
        "R = 0.0821\n",
        "n = 2     #moles\n",
        "V = 3     #L\n",
        "T = 300   #K\n",
        "P = 2     #atm\n",
        "# Factor de compresibilidad (Z)\n",
        "Z = (P * V) / (n * R * T)\n",
        "print(f\"El factor de compresibilidad (Z) del gas es {Z:.2f}\")"
      ],
      "metadata": {
        "id": "ekSmyHyjA4GF"
      },
      "execution_count": null,
      "outputs": []
    },
    {
      "cell_type": "markdown",
      "source": [
        "10.3. Si 3 moles de un gas real a 400 K y 5 atmósferas ocupan un volumen de 10 litros, ¿cuál es\n",
        "el factor de compresibilidad (Z) en este caso?"
      ],
      "metadata": {
        "id": "yRF6t2ImBYLK"
      }
    },
    {
      "cell_type": "code",
      "source": [
        "# Constante R (L·atm/(mol·K))\n",
        "R = 0.0821\n",
        "n = 3     #moles\n",
        "V = 10    #L\n",
        "T = 400   #K\n",
        "P = 5     #atm\n",
        "# Factor de compresibilidad (Z)\n",
        "Z = (P * V) / (n * R * T)\n",
        "print(f\"El factor de compresibilidad (Z) del gas es {Z:.2f}\")"
      ],
      "metadata": {
        "id": "WtBl-KZ_BatX"
      },
      "execution_count": null,
      "outputs": []
    }
  ]
}